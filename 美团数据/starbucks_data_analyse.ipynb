{
 "cells": [
  {
   "attachments": {},
   "cell_type": "markdown",
   "metadata": {},
   "source": [
    "# 美团北京星巴克数据分析\n",
    "\n",
    "网页：https://bj.meituan.com/s/%E6%98%9F%E5%B7%B4%E5%85%8B/\n",
    "\n",
    "分析目标:\n",
    "1. 所有门店按评分从高到低排序\n",
    "2. 通过门店的商圈 （areaname）结合北京区域数据给每个门店添加新字段 area 表示其所属的北京区域（如朝阳区、西城区）\n",
    "3. 按照北京区域分组所有门店\n",
    "4. 统计各个区域的门店数量，找出拥有星巴克门店数量最多的三个区域\n",
    "5. 统计各个区域星巴克门店的平均评分，找出平均评分最好的北京区域\n",
    "6. 找出拥有最多星巴克门店且平均评分最高的商圈（areaname）"
   ]
  },
  {
   "cell_type": "code",
   "execution_count": 1,
   "metadata": {},
   "outputs": [
    {
     "name": "stdout",
     "output_type": "stream",
     "text": [
      "['id', 'title', 'avgscore', 'areaname', 'backCateName']\n",
      "[['598894939', '星巴克（北京门头沟长安天街店）', '4.1', '门头沟城区', '咖啡厅'],\n",
      " ['195215506', '星巴克（未来中心店）', '4.3', '北七家', '咖啡厅'],\n",
      " ['50090428', '星巴克（北京房山北关西路店）', '4.4', '良乡', '咖啡厅'],\n",
      " ['192951735', '星巴克（北京昌平悦荟店）', '4.0', '昌平镇', '咖啡厅'],\n",
      " ['5823459', '星巴克（北京西站第一店）', '3.9', '北京西站/六里桥', '咖啡厅']]\n"
     ]
    }
   ],
   "source": [
    "import csv\n",
    "from pprint import pprint\n",
    "\n",
    "beijing_starbucks_csv_file = \"beijing-starbucks.csv\"\n",
    "\n",
    "header = []\n",
    "data = []\n",
    "\n",
    "with open(beijing_starbucks_csv_file, \"r\", encoding=\"utf-8\") as f:\n",
    "    reader = csv.reader(f)\n",
    "    header = next(reader)\n",
    "    data = list(reader)\n",
    "\n",
    "pprint(header)\n",
    "pprint(data[:5])"
   ]
  },
  {
   "attachments": {},
   "cell_type": "markdown",
   "metadata": {},
   "source": [
    "1. 所有门店按评分从高到低排序"
   ]
  },
  {
   "cell_type": "code",
   "execution_count": 2,
   "metadata": {},
   "outputs": [
    {
     "name": "stdout",
     "output_type": "stream",
     "text": [
      "[['598894939', '星巴克（北京门头沟长安天街店）', 4.1, '门头沟城区', '咖啡厅'],\n",
      " ['195215506', '星巴克（未来中心店）', 4.3, '北七家', '咖啡厅'],\n",
      " ['50090428', '星巴克（北京房山北关西路店）', 4.4, '良乡', '咖啡厅'],\n",
      " ['192951735', '星巴克（北京昌平悦荟店）', 4.0, '昌平镇', '咖啡厅'],\n",
      " ['5823459', '星巴克（北京西站第一店）', 3.9, '北京西站/六里桥', '咖啡厅']]\n"
     ]
    }
   ],
   "source": [
    "# 把 avgscore 列从 str 类型转换为 float 类型\n",
    "\n",
    "for row in data:\n",
    "    row[2] = float(row[2])\n",
    "\n",
    "pprint(data[:5])"
   ]
  },
  {
   "cell_type": "code",
   "execution_count": 3,
   "metadata": {},
   "outputs": [
    {
     "name": "stdout",
     "output_type": "stream",
     "text": [
      "排序前:\n",
      "[['598894939', '星巴克（北京门头沟长安天街店）', 4.1, '门头沟城区', '咖啡厅'],\n",
      " ['195215506', '星巴克（未来中心店）', 4.3, '北七家', '咖啡厅'],\n",
      " ['50090428', '星巴克（北京房山北关西路店）', 4.4, '良乡', '咖啡厅'],\n",
      " ['192951735', '星巴克（北京昌平悦荟店）', 4.0, '昌平镇', '咖啡厅'],\n",
      " ['5823459', '星巴克（北京西站第一店）', 3.9, '北京西站/六里桥', '咖啡厅']]\n",
      "排序后:\n",
      "[['1186879667', '星巴克（北京大成路物美店）', 4.7, '青塔', '咖啡厅'],\n",
      " ['1186879667', '星巴克（北京大成路物美店）', 4.7, '青塔', '咖啡厅'],\n",
      " ['1113374444', '星巴克（北京路劲世界城店）', 4.6, '昌平镇', '咖啡厅'],\n",
      " ['185739148', '星巴克（北京学院南路店）', 4.6, '北下关', '咖啡厅'],\n",
      " ['1457682522', '星巴克（北京橡树澜湾店）', 4.6, '卢沟桥', '咖啡厅']]\n"
     ]
    }
   ],
   "source": [
    "# 排序前\n",
    "print(\"排序前:\")\n",
    "pprint(data[:5])\n",
    "\n",
    "# 使用 sorted 函数给 data 按照 avgscore 排序\n",
    "sorted_data = sorted(data, key=lambda _: _[2], reverse=True)\n",
    "\n",
    "# 排序后\n",
    "print(\"排序后:\")\n",
    "pprint(sorted_data[:5])"
   ]
  },
  {
   "attachments": {},
   "cell_type": "markdown",
   "metadata": {},
   "source": [
    "2. 通过门店的商圈 （areaname）结合北京区域数据给每个门店添加新字段 area 表示其所属的北京区域（如朝阳区、西城区）"
   ]
  },
  {
   "cell_type": "code",
   "execution_count": 4,
   "metadata": {},
   "outputs": [
    {
     "name": "stdout",
     "output_type": "stream",
     "text": [
      "{'东城区': ['东直门', '安定门'],\n",
      " '丰台区': ['洋桥/木樨园', '刘家窑/宋家庄'],\n",
      " '大兴区': ['旧宫', '黄村'],\n",
      " '密云区': ['司马台长城', '密云县县城'],\n",
      " '平谷区': ['平谷城区'],\n",
      " '延庆区': ['八达岭', '延庆城区'],\n",
      " '怀柔区': ['商业街'],\n",
      " '房山区': ['长阳镇', '良乡'],\n",
      " '昌平区': ['昌平镇', '回龙观'],\n",
      " '朝阳区': ['大望路', '双井'],\n",
      " '海淀区': ['双榆树', '上地'],\n",
      " '石景山区': ['苹果园', '古城/八角'],\n",
      " '西城区': ['西直门/动物园', '复兴门'],\n",
      " '通州区': ['梨园', '新华大街'],\n",
      " '门头沟区': ['门头沟城区'],\n",
      " '顺义区': ['马坡牛栏山镇', '首都机场/机场路']}\n"
     ]
    }
   ],
   "source": [
    "import json\n",
    "\n",
    "area_data = {}\n",
    "with open(\"beijing-area.json\", \"r\", encoding=\"utf-8\") as f:\n",
    "    area_data = json.load(f)\n",
    "\n",
    "pprint({k: v[:2] for k, v in area_data.items()})"
   ]
  },
  {
   "cell_type": "code",
   "execution_count": 5,
   "metadata": {},
   "outputs": [
    {
     "data": {
      "text/plain": [
       "True"
      ]
     },
     "execution_count": 5,
     "metadata": {},
     "output_type": "execute_result"
    }
   ],
   "source": [
    "# 返回商圈所属于的区\n",
    "def to_area(areaname: str) -> str:\n",
    "    for k, v in area_data.items():\n",
    "        if areaname == k or areaname in v:\n",
    "            return k\n",
    "    return \"未知\"\n",
    "\n",
    "# 测试\n",
    "to_area(\"酒仙桥\") == \"朝阳区\""
   ]
  },
  {
   "cell_type": "code",
   "execution_count": 6,
   "metadata": {},
   "outputs": [
    {
     "name": "stdout",
     "output_type": "stream",
     "text": [
      "[['598894939', '星巴克（北京门头沟长安天街店）', 4.1, '门头沟城区', '咖啡厅', '门头沟区'],\n",
      " ['195215506', '星巴克（未来中心店）', 4.3, '北七家', '咖啡厅', '昌平区'],\n",
      " ['50090428', '星巴克（北京房山北关西路店）', 4.4, '良乡', '咖啡厅', '房山区'],\n",
      " ['192951735', '星巴克（北京昌平悦荟店）', 4.0, '昌平镇', '咖啡厅', '昌平区'],\n",
      " ['5823459', '星巴克（北京西站第一店）', 3.9, '北京西站/六里桥', '咖啡厅', '丰台区']]\n"
     ]
    }
   ],
   "source": [
    "# 新增 area 列\n",
    "for row in data:\n",
    "    row.append(to_area(row[3]))\n",
    "\n",
    "pprint(data[:5])"
   ]
  },
  {
   "attachments": {},
   "cell_type": "markdown",
   "metadata": {},
   "source": [
    "3. 按照北京区域分组所有门店"
   ]
  },
  {
   "cell_type": "code",
   "execution_count": 7,
   "metadata": {},
   "outputs": [
    {
     "name": "stdout",
     "output_type": "stream",
     "text": [
      "{'东城区': [['159988078', '星巴克（北京东直门来福士一店）', 4.4, '东直门', '咖啡厅', '东城区']],\n",
      " '丰台区': [['5823459', '星巴克（北京西站第一店）', 3.9, '北京西站/六里桥', '咖啡厅', '丰台区']],\n",
      " '大兴区': [['50168849', '星巴克臻选（北京欣宁大街店）', 4.2, '西红门', '咖啡厅', '大兴区']],\n",
      " '密云区': [['1132796034', '星巴克（北京密云鼓楼南大街店）', 3.8, '密云县县城', '咖啡厅', '密云区']],\n",
      " '平谷区': [['760147141', '星巴克（北京平谷国泰店）', 4.3, '平谷城区', '咖啡厅', '平谷区']],\n",
      " '延庆区': [['1216288205', '星巴克（北京延庆万达店）', 4.3, '延庆城区', '咖啡厅', '延庆区']],\n",
      " '怀柔区': [['175350734', '星巴克（北京怀柔万达店）', 4.0, '商业街', '咖啡厅', '怀柔区']],\n",
      " '房山区': [['50090428', '星巴克（北京房山北关西路店）', 4.4, '良乡', '咖啡厅', '房山区']],\n",
      " '昌平区': [['195215506', '星巴克（未来中心店）', 4.3, '北七家', '咖啡厅', '昌平区']],\n",
      " '朝阳区': [['1564543910', '星巴克（北京三里屯南区NOW店）', 4.3, '三里屯/工体', '咖啡厅', '朝阳区']],\n",
      " '未知': [['1457682522', '星巴克（北京橡树澜湾店）', 4.6, '卢沟桥', '咖啡厅', '未知']],\n",
      " '海淀区': [['628226657', '星巴克（北京中关村环保园店）', 4.3, '海淀区', '咖啡厅', '海淀区']],\n",
      " '石景山区': [['4218587', '星巴克（北京石景山万达广场店）', 4.0, '鲁谷', '咖啡厅', '石景山区']],\n",
      " '西城区': [['314057', '星巴克臻选（北京前门大街店）', 4.3, '前门/大栅栏', '咖啡厅', '西城区']],\n",
      " '通州区': [['50233524', '星巴克（北京通州万达广场第一店）', 4.3, '通州北苑', '咖啡厅', '通州区']],\n",
      " '门头沟区': [['598894939', '星巴克（北京门头沟长安天街店）', 4.1, '门头沟城区', '咖啡厅', '门头沟区']],\n",
      " '顺义区': [['1988214402', '星巴克（北京顺义新世界店）', 4.4, '顺义城区', '咖啡厅', '顺义区']]}\n"
     ]
    }
   ],
   "source": [
    "grouped_data = {}\n",
    "\n",
    "# 按照 区 分组\n",
    "for row in data:\n",
    "    if row[5] not in grouped_data:\n",
    "        grouped_data[row[5]] = []\n",
    "    grouped_data[row[5]].append(row)\n",
    "\n",
    "pprint({k: v[:1] for k, v in grouped_data.items()})"
   ]
  },
  {
   "attachments": {},
   "cell_type": "markdown",
   "metadata": {},
   "source": [
    "4. 统计各个区域的门店数量，找出拥有星巴克门店数量最多的三个区域"
   ]
  },
  {
   "cell_type": "code",
   "execution_count": 8,
   "metadata": {},
   "outputs": [
    {
     "name": "stdout",
     "output_type": "stream",
     "text": [
      "各个区域门店数量:\n",
      "{'东城区': 37,\n",
      " '丰台区': 52,\n",
      " '大兴区': 19,\n",
      " '密云区': 3,\n",
      " '平谷区': 1,\n",
      " '延庆区': 3,\n",
      " '怀柔区': 2,\n",
      " '房山区': 7,\n",
      " '昌平区': 16,\n",
      " '朝阳区': 210,\n",
      " '未知': 9,\n",
      " '海淀区': 81,\n",
      " '石景山区': 13,\n",
      " '西城区': 38,\n",
      " '通州区': 24,\n",
      " '门头沟区': 3,\n",
      " '顺义区': 12}\n",
      "拥有星巴克门店数量最多的三个区域:\n",
      "朝阳区: 210\n",
      "海淀区: 81\n",
      "丰台区: 52\n"
     ]
    }
   ],
   "source": [
    "counter = {}\n",
    "\n",
    "for area, rows in grouped_data.items():\n",
    "    counter[area] = len(rows)\n",
    "\n",
    "print(\"各个区域门店数量:\")\n",
    "pprint(counter)\n",
    "\n",
    "# 按门店数量排序\n",
    "counter = {k:v for k, v in sorted(counter.items(), key=lambda _:_[1], reverse=True)}\n",
    "\n",
    "# Top 3\n",
    "print(\"拥有星巴克门店数量最多的三个区域:\")\n",
    "for k in list(counter.keys())[:3]:\n",
    "    print(f\"{k}: {counter[k]}\")"
   ]
  },
  {
   "attachments": {},
   "cell_type": "markdown",
   "metadata": {},
   "source": [
    "5. 统计各个区域星巴克门店的平均评分，找出平均评分最好的北京区域"
   ]
  },
  {
   "cell_type": "code",
   "execution_count": 9,
   "metadata": {},
   "outputs": [
    {
     "name": "stdout",
     "output_type": "stream",
     "text": [
      "各个区域星巴克门店的平均评分:\n",
      "{'东城区': 4.12,\n",
      " '丰台区': 4.16,\n",
      " '大兴区': 4.24,\n",
      " '密云区': 4.13,\n",
      " '平谷区': 4.3,\n",
      " '延庆区': 2.87,\n",
      " '怀柔区': 4.15,\n",
      " '房山区': 4.39,\n",
      " '昌平区': 3.92,\n",
      " '朝阳区': 4.11,\n",
      " '未知': 2.44,\n",
      " '海淀区': 4.08,\n",
      " '石景山区': 3.82,\n",
      " '西城区': 4.0,\n",
      " '通州区': 4.2,\n",
      " '门头沟区': 2.67,\n",
      " '顺义区': 4.31}\n",
      "平均评分最好的北京区域: 房山区 4.39\n"
     ]
    }
   ],
   "source": [
    "import statistics\n",
    "\n",
    "area_score = {}\n",
    "for area, rows in grouped_data.items():\n",
    "    # 使用 mean 函数计算平均数\n",
    "    score = statistics.mean([_[2] for _ in rows])\n",
    "    # 保留两位小数\n",
    "    area_score[area] = round(score, 2)\n",
    "\n",
    "print(\"各个区域星巴克门店的平均评分:\")\n",
    "pprint(area_score)\n",
    "\n",
    "# 按评分排序\n",
    "area_score = {k:v for k, v in sorted(area_score.items(), key=lambda _:_[1], reverse=True)}\n",
    "\n",
    "best_area = list(area_score.items())[0]\n",
    "print(f\"平均评分最好的北京区域: {best_area[0]} {best_area[1]}\")"
   ]
  },
  {
   "attachments": {},
   "cell_type": "markdown",
   "metadata": {},
   "source": [
    "6. 分别找出拥有最多星巴克门店和平均评分最高的商圈（areaname）"
   ]
  },
  {
   "cell_type": "code",
   "execution_count": 10,
   "metadata": {},
   "outputs": [],
   "source": [
    "# 按商圈分组\n",
    "areaname_grouped_data = {}\n",
    "for row in data:\n",
    "    areaname = row[3]\n",
    "    if areaname not in areaname_grouped_data:\n",
    "        areaname_grouped_data[areaname] = []\n",
    "    areaname_grouped_data[areaname].append(row)"
   ]
  },
  {
   "cell_type": "code",
   "execution_count": 11,
   "metadata": {},
   "outputs": [
    {
     "name": "stdout",
     "output_type": "stream",
     "text": [
      "拥有最多星巴克门店的商圈:\n",
      "望京 : 23 ⭐4.26\n",
      "国贸/建外 : 22 ⭐4.27\n",
      "大望路 : 17 ⭐3.95\n",
      "首都机场 : 16 ⭐3.68\n",
      "朝外大街 : 14 ⭐4.28\n",
      "\n",
      "拥有最高平均评分的商圈:\n",
      "北下关 : 1 ⭐4.6\n",
      "卢沟桥 : 1 ⭐4.6\n",
      "北大地/万丰路 : 1 ⭐4.6\n",
      "青塔 : 3 ⭐4.57\n",
      "八里桥 : 1 ⭐4.5\n",
      "\n",
      "拥有最多星巴克门店且平均评分大于 4.1 的商圈\n",
      "望京 : 23 ⭐4.26\n",
      "国贸/建外 : 22 ⭐4.27\n",
      "朝外大街 : 14 ⭐4.28\n",
      "亮马桥/三元桥 : 13 ⭐4.3\n",
      "亦庄 : 13 ⭐4.18\n"
     ]
    }
   ],
   "source": [
    "# 计算各个商圈的门店数量和平均评分\n",
    "areaname_info = []\n",
    "for areaname, rows in areaname_grouped_data.items():\n",
    "    score = statistics.mean([_[2] for _ in rows])\n",
    "    score = round(score, 2)\n",
    "    areaname_info.append((areaname, len(rows), score))\n",
    "\n",
    "print(\"拥有最多星巴克门店的商圈:\")\n",
    "for item in sorted(areaname_info, key=lambda _:_[1], reverse=True)[:5]:\n",
    "    print(f\"{item[0]} : {item[1]} ⭐{item[2]}\")\n",
    "\n",
    "print()\n",
    "\n",
    "print(\"拥有最高平均评分的商圈:\")\n",
    "for item in sorted(areaname_info, key=lambda _:_[2], reverse=True)[:5]:\n",
    "    print(f\"{item[0]} : {item[1]} ⭐{item[2]}\")\n",
    "\n",
    "print()\n",
    "\n",
    "print(\"拥有最多星巴克门店且平均评分大于 4.1 的商圈\")\n",
    "for item in list(filter(lambda _:_[2] >= 4.1, sorted(areaname_info, key=lambda _:_[1], reverse=True)))[:5]:\n",
    "    print(f\"{item[0]} : {item[1]} ⭐{item[2]}\")\n"
   ]
  }
 ],
 "metadata": {
  "kernelspec": {
   "display_name": "Python 3",
   "language": "python",
   "name": "python3"
  },
  "language_info": {
   "codemirror_mode": {
    "name": "ipython",
    "version": 3
   },
   "file_extension": ".py",
   "mimetype": "text/x-python",
   "name": "python",
   "nbconvert_exporter": "python",
   "pygments_lexer": "ipython3",
   "version": "3.10.10"
  },
  "orig_nbformat": 4
 },
 "nbformat": 4,
 "nbformat_minor": 2
}
