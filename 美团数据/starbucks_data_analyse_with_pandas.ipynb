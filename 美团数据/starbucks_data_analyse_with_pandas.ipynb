{
 "cells": [
  {
   "attachments": {},
   "cell_type": "markdown",
   "metadata": {},
   "source": [
    "# 美团北京星巴克数据分析（基于Pandas）\n",
    "\n",
    "- 网页：https://bj.meituan.com/s/%E6%98%9F%E5%B7%B4%E5%85%8B/\n",
    "- Pandas教程: https://pandas.pydata.org/docs/user_guide/10min.html\n",
    "\n",
    "**分析目标**:\n",
    "1. 所有门店按评分从高到低排序\n",
    "2. 通过门店的商圈 （areaname）结合北京区域数据给每个门店添加新字段 area 表示其所属的北京区域（如朝阳区、西城区）\n",
    "3. 按照北京区域分组所有门店\n",
    "4. 统计各个区域的门店数量，找出拥有星巴克门店数量最多的三个区域\n",
    "5. 统计各个区域星巴克门店的平均评分，找出平均评分最好的北京区域\n",
    "6. 找出拥有最多星巴克门店且平均评分最高的商圈（areaname）"
   ]
  },
  {
   "cell_type": "code",
   "execution_count": null,
   "metadata": {},
   "outputs": [
    {
     "data": {
      "text/html": [
       "<div>\n",
       "<style scoped>\n",
       "    .dataframe tbody tr th:only-of-type {\n",
       "        vertical-align: middle;\n",
       "    }\n",
       "\n",
       "    .dataframe tbody tr th {\n",
       "        vertical-align: top;\n",
       "    }\n",
       "\n",
       "    .dataframe thead th {\n",
       "        text-align: right;\n",
       "    }\n",
       "</style>\n",
       "<table border=\"1\" class=\"dataframe\">\n",
       "  <thead>\n",
       "    <tr style=\"text-align: right;\">\n",
       "      <th></th>\n",
       "      <th>id</th>\n",
       "      <th>title</th>\n",
       "      <th>avgscore</th>\n",
       "      <th>areaname</th>\n",
       "      <th>backCateName</th>\n",
       "    </tr>\n",
       "  </thead>\n",
       "  <tbody>\n",
       "    <tr>\n",
       "      <th>0</th>\n",
       "      <td>598894939</td>\n",
       "      <td>星巴克（北京门头沟长安天街店）</td>\n",
       "      <td>4.1</td>\n",
       "      <td>门头沟城区</td>\n",
       "      <td>咖啡厅</td>\n",
       "    </tr>\n",
       "    <tr>\n",
       "      <th>1</th>\n",
       "      <td>195215506</td>\n",
       "      <td>星巴克（未来中心店）</td>\n",
       "      <td>4.3</td>\n",
       "      <td>北七家</td>\n",
       "      <td>咖啡厅</td>\n",
       "    </tr>\n",
       "    <tr>\n",
       "      <th>2</th>\n",
       "      <td>50090428</td>\n",
       "      <td>星巴克（北京房山北关西路店）</td>\n",
       "      <td>4.4</td>\n",
       "      <td>良乡</td>\n",
       "      <td>咖啡厅</td>\n",
       "    </tr>\n",
       "    <tr>\n",
       "      <th>3</th>\n",
       "      <td>192951735</td>\n",
       "      <td>星巴克（北京昌平悦荟店）</td>\n",
       "      <td>4.0</td>\n",
       "      <td>昌平镇</td>\n",
       "      <td>咖啡厅</td>\n",
       "    </tr>\n",
       "    <tr>\n",
       "      <th>4</th>\n",
       "      <td>5823459</td>\n",
       "      <td>星巴克（北京西站第一店）</td>\n",
       "      <td>3.9</td>\n",
       "      <td>北京西站/六里桥</td>\n",
       "      <td>咖啡厅</td>\n",
       "    </tr>\n",
       "  </tbody>\n",
       "</table>\n",
       "</div>"
      ],
      "text/plain": [
       "          id            title  avgscore  areaname backCateName\n",
       "0  598894939  星巴克（北京门头沟长安天街店）       4.1     门头沟城区          咖啡厅\n",
       "1  195215506       星巴克（未来中心店）       4.3       北七家          咖啡厅\n",
       "2   50090428   星巴克（北京房山北关西路店）       4.4        良乡          咖啡厅\n",
       "3  192951735     星巴克（北京昌平悦荟店）       4.0       昌平镇          咖啡厅\n",
       "4    5823459     星巴克（北京西站第一店）       3.9  北京西站/六里桥          咖啡厅"
      ]
     },
     "execution_count": 3,
     "metadata": {},
     "output_type": "execute_result"
    }
   ],
   "source": [
    "# Fist, load data\n",
    "\n",
    "import pandas as pd\n",
    "\n",
    "beijing_starbucks_csv_file = \"beijing-starbucks.csv\"\n",
    "data = pd.read_csv(beijing_starbucks_csv_file)\n",
    "\n",
    "data.head()\n"
   ]
  },
  {
   "attachments": {},
   "cell_type": "markdown",
   "metadata": {},
   "source": [
    "1. 所有门店按评分从高到低排序"
   ]
  },
  {
   "cell_type": "code",
   "execution_count": null,
   "metadata": {},
   "outputs": [
    {
     "data": {
      "text/html": [
       "<div>\n",
       "<style scoped>\n",
       "    .dataframe tbody tr th:only-of-type {\n",
       "        vertical-align: middle;\n",
       "    }\n",
       "\n",
       "    .dataframe tbody tr th {\n",
       "        vertical-align: top;\n",
       "    }\n",
       "\n",
       "    .dataframe thead th {\n",
       "        text-align: right;\n",
       "    }\n",
       "</style>\n",
       "<table border=\"1\" class=\"dataframe\">\n",
       "  <thead>\n",
       "    <tr style=\"text-align: right;\">\n",
       "      <th></th>\n",
       "      <th>id</th>\n",
       "      <th>title</th>\n",
       "      <th>avgscore</th>\n",
       "      <th>areaname</th>\n",
       "      <th>backCateName</th>\n",
       "    </tr>\n",
       "  </thead>\n",
       "  <tbody>\n",
       "    <tr>\n",
       "      <th>402</th>\n",
       "      <td>1186879667</td>\n",
       "      <td>星巴克（北京大成路物美店）</td>\n",
       "      <td>4.7</td>\n",
       "      <td>青塔</td>\n",
       "      <td>咖啡厅</td>\n",
       "    </tr>\n",
       "    <tr>\n",
       "      <th>382</th>\n",
       "      <td>1186879667</td>\n",
       "      <td>星巴克（北京大成路物美店）</td>\n",
       "      <td>4.7</td>\n",
       "      <td>青塔</td>\n",
       "      <td>咖啡厅</td>\n",
       "    </tr>\n",
       "    <tr>\n",
       "      <th>16</th>\n",
       "      <td>1113374444</td>\n",
       "      <td>星巴克（北京路劲世界城店）</td>\n",
       "      <td>4.6</td>\n",
       "      <td>昌平镇</td>\n",
       "      <td>咖啡厅</td>\n",
       "    </tr>\n",
       "    <tr>\n",
       "      <th>306</th>\n",
       "      <td>932547723</td>\n",
       "      <td>星巴克（北京泛海国际商街店）</td>\n",
       "      <td>4.6</td>\n",
       "      <td>姚家园</td>\n",
       "      <td>咖啡厅</td>\n",
       "    </tr>\n",
       "    <tr>\n",
       "      <th>220</th>\n",
       "      <td>1457682522</td>\n",
       "      <td>星巴克（北京橡树澜湾店）</td>\n",
       "      <td>4.6</td>\n",
       "      <td>卢沟桥</td>\n",
       "      <td>咖啡厅</td>\n",
       "    </tr>\n",
       "  </tbody>\n",
       "</table>\n",
       "</div>"
      ],
      "text/plain": [
       "             id           title  avgscore areaname backCateName\n",
       "402  1186879667   星巴克（北京大成路物美店）       4.7       青塔          咖啡厅\n",
       "382  1186879667   星巴克（北京大成路物美店）       4.7       青塔          咖啡厅\n",
       "16   1113374444   星巴克（北京路劲世界城店）       4.6      昌平镇          咖啡厅\n",
       "306   932547723  星巴克（北京泛海国际商街店）       4.6      姚家园          咖啡厅\n",
       "220  1457682522    星巴克（北京橡树澜湾店）       4.6      卢沟桥          咖啡厅"
      ]
     },
     "execution_count": 4,
     "metadata": {},
     "output_type": "execute_result"
    }
   ],
   "source": [
    "sorted_data = data.sort_values(by=\"avgscore\", ascending=False)\n",
    "\n",
    "sorted_data.head()"
   ]
  },
  {
   "attachments": {},
   "cell_type": "markdown",
   "metadata": {},
   "source": [
    "2. 通过门店的商圈 （areaname）结合北京区域数据给每个门店添加新字段 area 表示其所属的北京区域（如朝阳区、西城区）"
   ]
  },
  {
   "cell_type": "code",
   "execution_count": null,
   "metadata": {},
   "outputs": [
    {
     "data": {
      "text/plain": [
       "True"
      ]
     },
     "execution_count": 5,
     "metadata": {},
     "output_type": "execute_result"
    }
   ],
   "source": [
    "import json\n",
    "\n",
    "area_data = {}\n",
    "with open(\"beijing-area.json\", \"r\", encoding=\"utf-8\") as f:\n",
    "    area_data = json.load(f)\n",
    "\n",
    "# 返回商圈所属于的区\n",
    "def to_area(areaname: str) -> str:\n",
    "    for k, v in area_data.items():\n",
    "        if areaname == k or areaname in v:\n",
    "            return k\n",
    "    return \"未知\"\n",
    "\n",
    "# 测试\n",
    "to_area(\"酒仙桥\") == \"朝阳区\""
   ]
  },
  {
   "cell_type": "code",
   "execution_count": null,
   "metadata": {},
   "outputs": [
    {
     "data": {
      "text/html": [
       "<div>\n",
       "<style scoped>\n",
       "    .dataframe tbody tr th:only-of-type {\n",
       "        vertical-align: middle;\n",
       "    }\n",
       "\n",
       "    .dataframe tbody tr th {\n",
       "        vertical-align: top;\n",
       "    }\n",
       "\n",
       "    .dataframe thead th {\n",
       "        text-align: right;\n",
       "    }\n",
       "</style>\n",
       "<table border=\"1\" class=\"dataframe\">\n",
       "  <thead>\n",
       "    <tr style=\"text-align: right;\">\n",
       "      <th></th>\n",
       "      <th>id</th>\n",
       "      <th>title</th>\n",
       "      <th>avgscore</th>\n",
       "      <th>areaname</th>\n",
       "      <th>area</th>\n",
       "      <th>backCateName</th>\n",
       "    </tr>\n",
       "  </thead>\n",
       "  <tbody>\n",
       "    <tr>\n",
       "      <th>0</th>\n",
       "      <td>598894939</td>\n",
       "      <td>星巴克（北京门头沟长安天街店）</td>\n",
       "      <td>4.1</td>\n",
       "      <td>门头沟城区</td>\n",
       "      <td>门头沟区</td>\n",
       "      <td>咖啡厅</td>\n",
       "    </tr>\n",
       "    <tr>\n",
       "      <th>1</th>\n",
       "      <td>195215506</td>\n",
       "      <td>星巴克（未来中心店）</td>\n",
       "      <td>4.3</td>\n",
       "      <td>北七家</td>\n",
       "      <td>昌平区</td>\n",
       "      <td>咖啡厅</td>\n",
       "    </tr>\n",
       "    <tr>\n",
       "      <th>2</th>\n",
       "      <td>50090428</td>\n",
       "      <td>星巴克（北京房山北关西路店）</td>\n",
       "      <td>4.4</td>\n",
       "      <td>良乡</td>\n",
       "      <td>房山区</td>\n",
       "      <td>咖啡厅</td>\n",
       "    </tr>\n",
       "    <tr>\n",
       "      <th>3</th>\n",
       "      <td>192951735</td>\n",
       "      <td>星巴克（北京昌平悦荟店）</td>\n",
       "      <td>4.0</td>\n",
       "      <td>昌平镇</td>\n",
       "      <td>昌平区</td>\n",
       "      <td>咖啡厅</td>\n",
       "    </tr>\n",
       "    <tr>\n",
       "      <th>4</th>\n",
       "      <td>5823459</td>\n",
       "      <td>星巴克（北京西站第一店）</td>\n",
       "      <td>3.9</td>\n",
       "      <td>北京西站/六里桥</td>\n",
       "      <td>丰台区</td>\n",
       "      <td>咖啡厅</td>\n",
       "    </tr>\n",
       "  </tbody>\n",
       "</table>\n",
       "</div>"
      ],
      "text/plain": [
       "          id            title  avgscore  areaname  area backCateName\n",
       "0  598894939  星巴克（北京门头沟长安天街店）       4.1     门头沟城区  门头沟区          咖啡厅\n",
       "1  195215506       星巴克（未来中心店）       4.3       北七家   昌平区          咖啡厅\n",
       "2   50090428   星巴克（北京房山北关西路店）       4.4        良乡   房山区          咖啡厅\n",
       "3  192951735     星巴克（北京昌平悦荟店）       4.0       昌平镇   昌平区          咖啡厅\n",
       "4    5823459     星巴克（北京西站第一店）       3.9  北京西站/六里桥   丰台区          咖啡厅"
      ]
     },
     "execution_count": 6,
     "metadata": {},
     "output_type": "execute_result"
    }
   ],
   "source": [
    "area_column = data[\"areaname\"].apply(to_area)\n",
    "data.insert(4, \"area\", area_column)\n",
    "data.head()"
   ]
  },
  {
   "attachments": {},
   "cell_type": "markdown",
   "metadata": {},
   "source": [
    "3. 按照北京区域分组所有门店"
   ]
  },
  {
   "cell_type": "code",
   "execution_count": null,
   "metadata": {},
   "outputs": [
    {
     "data": {
      "text/html": [
       "<div>\n",
       "<style scoped>\n",
       "    .dataframe tbody tr th:only-of-type {\n",
       "        vertical-align: middle;\n",
       "    }\n",
       "\n",
       "    .dataframe tbody tr th {\n",
       "        vertical-align: top;\n",
       "    }\n",
       "\n",
       "    .dataframe thead th {\n",
       "        text-align: right;\n",
       "    }\n",
       "</style>\n",
       "<table border=\"1\" class=\"dataframe\">\n",
       "  <thead>\n",
       "    <tr style=\"text-align: right;\">\n",
       "      <th></th>\n",
       "      <th>id</th>\n",
       "      <th>title</th>\n",
       "      <th>avgscore</th>\n",
       "      <th>areaname</th>\n",
       "      <th>backCateName</th>\n",
       "    </tr>\n",
       "    <tr>\n",
       "      <th>area</th>\n",
       "      <th></th>\n",
       "      <th></th>\n",
       "      <th></th>\n",
       "      <th></th>\n",
       "      <th></th>\n",
       "    </tr>\n",
       "  </thead>\n",
       "  <tbody>\n",
       "    <tr>\n",
       "      <th>东城区</th>\n",
       "      <td>159988078</td>\n",
       "      <td>星巴克（北京东直门来福士一店）</td>\n",
       "      <td>4.4</td>\n",
       "      <td>东直门</td>\n",
       "      <td>咖啡厅</td>\n",
       "    </tr>\n",
       "    <tr>\n",
       "      <th>丰台区</th>\n",
       "      <td>5823459</td>\n",
       "      <td>星巴克（北京西站第一店）</td>\n",
       "      <td>3.9</td>\n",
       "      <td>北京西站/六里桥</td>\n",
       "      <td>咖啡厅</td>\n",
       "    </tr>\n",
       "    <tr>\n",
       "      <th>大兴区</th>\n",
       "      <td>50168849</td>\n",
       "      <td>星巴克臻选（北京欣宁大街店）</td>\n",
       "      <td>4.2</td>\n",
       "      <td>西红门</td>\n",
       "      <td>咖啡厅</td>\n",
       "    </tr>\n",
       "    <tr>\n",
       "      <th>密云区</th>\n",
       "      <td>1132796034</td>\n",
       "      <td>星巴克（北京密云鼓楼南大街店）</td>\n",
       "      <td>3.8</td>\n",
       "      <td>密云县县城</td>\n",
       "      <td>咖啡厅</td>\n",
       "    </tr>\n",
       "    <tr>\n",
       "      <th>平谷区</th>\n",
       "      <td>760147141</td>\n",
       "      <td>星巴克（北京平谷国泰店）</td>\n",
       "      <td>4.3</td>\n",
       "      <td>平谷城区</td>\n",
       "      <td>咖啡厅</td>\n",
       "    </tr>\n",
       "    <tr>\n",
       "      <th>延庆区</th>\n",
       "      <td>1216288205</td>\n",
       "      <td>星巴克（北京延庆万达店）</td>\n",
       "      <td>4.3</td>\n",
       "      <td>延庆城区</td>\n",
       "      <td>咖啡厅</td>\n",
       "    </tr>\n",
       "    <tr>\n",
       "      <th>怀柔区</th>\n",
       "      <td>175350734</td>\n",
       "      <td>星巴克（北京怀柔万达店）</td>\n",
       "      <td>4.0</td>\n",
       "      <td>商业街</td>\n",
       "      <td>咖啡厅</td>\n",
       "    </tr>\n",
       "    <tr>\n",
       "      <th>房山区</th>\n",
       "      <td>50090428</td>\n",
       "      <td>星巴克（北京房山北关西路店）</td>\n",
       "      <td>4.4</td>\n",
       "      <td>良乡</td>\n",
       "      <td>咖啡厅</td>\n",
       "    </tr>\n",
       "    <tr>\n",
       "      <th>昌平区</th>\n",
       "      <td>195215506</td>\n",
       "      <td>星巴克（未来中心店）</td>\n",
       "      <td>4.3</td>\n",
       "      <td>北七家</td>\n",
       "      <td>咖啡厅</td>\n",
       "    </tr>\n",
       "    <tr>\n",
       "      <th>朝阳区</th>\n",
       "      <td>1564543910</td>\n",
       "      <td>星巴克（北京三里屯南区NOW店）</td>\n",
       "      <td>4.3</td>\n",
       "      <td>三里屯/工体</td>\n",
       "      <td>咖啡厅</td>\n",
       "    </tr>\n",
       "    <tr>\n",
       "      <th>未知</th>\n",
       "      <td>1457682522</td>\n",
       "      <td>星巴克（北京橡树澜湾店）</td>\n",
       "      <td>4.6</td>\n",
       "      <td>卢沟桥</td>\n",
       "      <td>咖啡厅</td>\n",
       "    </tr>\n",
       "    <tr>\n",
       "      <th>海淀区</th>\n",
       "      <td>628226657</td>\n",
       "      <td>星巴克（北京中关村环保园店）</td>\n",
       "      <td>4.3</td>\n",
       "      <td>海淀区</td>\n",
       "      <td>咖啡厅</td>\n",
       "    </tr>\n",
       "    <tr>\n",
       "      <th>石景山区</th>\n",
       "      <td>4218587</td>\n",
       "      <td>星巴克（北京石景山万达广场店）</td>\n",
       "      <td>4.0</td>\n",
       "      <td>鲁谷</td>\n",
       "      <td>咖啡厅</td>\n",
       "    </tr>\n",
       "    <tr>\n",
       "      <th>西城区</th>\n",
       "      <td>314057</td>\n",
       "      <td>星巴克臻选（北京前门大街店）</td>\n",
       "      <td>4.3</td>\n",
       "      <td>前门/大栅栏</td>\n",
       "      <td>咖啡厅</td>\n",
       "    </tr>\n",
       "    <tr>\n",
       "      <th>通州区</th>\n",
       "      <td>50233524</td>\n",
       "      <td>星巴克（北京通州万达广场第一店）</td>\n",
       "      <td>4.3</td>\n",
       "      <td>通州北苑</td>\n",
       "      <td>咖啡厅</td>\n",
       "    </tr>\n",
       "    <tr>\n",
       "      <th>门头沟区</th>\n",
       "      <td>598894939</td>\n",
       "      <td>星巴克（北京门头沟长安天街店）</td>\n",
       "      <td>4.1</td>\n",
       "      <td>门头沟城区</td>\n",
       "      <td>咖啡厅</td>\n",
       "    </tr>\n",
       "    <tr>\n",
       "      <th>顺义区</th>\n",
       "      <td>1988214402</td>\n",
       "      <td>星巴克（北京顺义新世界店）</td>\n",
       "      <td>4.4</td>\n",
       "      <td>顺义城区</td>\n",
       "      <td>咖啡厅</td>\n",
       "    </tr>\n",
       "  </tbody>\n",
       "</table>\n",
       "</div>"
      ],
      "text/plain": [
       "              id             title  avgscore  areaname backCateName\n",
       "area                                                               \n",
       "东城区    159988078   星巴克（北京东直门来福士一店）       4.4       东直门          咖啡厅\n",
       "丰台区      5823459      星巴克（北京西站第一店）       3.9  北京西站/六里桥          咖啡厅\n",
       "大兴区     50168849    星巴克臻选（北京欣宁大街店）       4.2       西红门          咖啡厅\n",
       "密云区   1132796034   星巴克（北京密云鼓楼南大街店）       3.8     密云县县城          咖啡厅\n",
       "平谷区    760147141      星巴克（北京平谷国泰店）       4.3      平谷城区          咖啡厅\n",
       "延庆区   1216288205      星巴克（北京延庆万达店）       4.3      延庆城区          咖啡厅\n",
       "怀柔区    175350734      星巴克（北京怀柔万达店）       4.0       商业街          咖啡厅\n",
       "房山区     50090428    星巴克（北京房山北关西路店）       4.4        良乡          咖啡厅\n",
       "昌平区    195215506        星巴克（未来中心店）       4.3       北七家          咖啡厅\n",
       "朝阳区   1564543910  星巴克（北京三里屯南区NOW店）       4.3    三里屯/工体          咖啡厅\n",
       "未知    1457682522      星巴克（北京橡树澜湾店）       4.6       卢沟桥          咖啡厅\n",
       "海淀区    628226657    星巴克（北京中关村环保园店）       4.3       海淀区          咖啡厅\n",
       "石景山区     4218587   星巴克（北京石景山万达广场店）       4.0        鲁谷          咖啡厅\n",
       "西城区       314057    星巴克臻选（北京前门大街店）       4.3    前门/大栅栏          咖啡厅\n",
       "通州区     50233524  星巴克（北京通州万达广场第一店）       4.3      通州北苑          咖啡厅\n",
       "门头沟区   598894939   星巴克（北京门头沟长安天街店）       4.1     门头沟城区          咖啡厅\n",
       "顺义区   1988214402     星巴克（北京顺义新世界店）       4.4      顺义城区          咖啡厅"
      ]
     },
     "execution_count": 7,
     "metadata": {},
     "output_type": "execute_result"
    }
   ],
   "source": [
    "grouped_data = data.groupby(\"area\")\n",
    "\n",
    "grouped_data.first()"
   ]
  },
  {
   "attachments": {},
   "cell_type": "markdown",
   "metadata": {},
   "source": [
    "4. 统计各个区域的门店数量，找出拥有星巴克门店数量最多的三个区域"
   ]
  },
  {
   "cell_type": "code",
   "execution_count": null,
   "metadata": {},
   "outputs": [
    {
     "data": {
      "text/plain": [
       "area\n",
       "朝阳区    210\n",
       "海淀区     81\n",
       "丰台区     52\n",
       "dtype: int64"
      ]
     },
     "execution_count": 8,
     "metadata": {},
     "output_type": "execute_result"
    }
   ],
   "source": [
    "store_totals = grouped_data.size()\n",
    "store_totals = store_totals.sort_values(ascending=False)\n",
    "store_totals.head(3)"
   ]
  },
  {
   "attachments": {},
   "cell_type": "markdown",
   "metadata": {},
   "source": [
    "5. 统计各个区域星巴克门店的平均评分，找出平均评分最好的北京区域"
   ]
  },
  {
   "cell_type": "code",
   "execution_count": null,
   "metadata": {},
   "outputs": [
    {
     "data": {
      "text/plain": [
       "area\n",
       "房山区    4.385714\n",
       "Name: avgscore, dtype: float64"
      ]
     },
     "execution_count": 9,
     "metadata": {},
     "output_type": "execute_result"
    }
   ],
   "source": [
    "area_avgscores = grouped_data[\"avgscore\"].mean()\n",
    "area_avgscores = area_avgscores.sort_values(ascending=False)\n",
    "area_avgscores.head(1)"
   ]
  },
  {
   "attachments": {},
   "cell_type": "markdown",
   "metadata": {},
   "source": [
    "6. 分别找出拥有最多星巴克门店和平均评分最高的商圈（areaname）"
   ]
  },
  {
   "cell_type": "code",
   "execution_count": null,
   "metadata": {},
   "outputs": [
    {
     "name": "stdout",
     "output_type": "stream",
     "text": [
      "拥有最多星巴克门店的商圈:\n"
     ]
    },
    {
     "data": {
      "text/html": [
       "<div>\n",
       "<style scoped>\n",
       "    .dataframe tbody tr th:only-of-type {\n",
       "        vertical-align: middle;\n",
       "    }\n",
       "\n",
       "    .dataframe tbody tr th {\n",
       "        vertical-align: top;\n",
       "    }\n",
       "\n",
       "    .dataframe thead th {\n",
       "        text-align: right;\n",
       "    }\n",
       "</style>\n",
       "<table border=\"1\" class=\"dataframe\">\n",
       "  <thead>\n",
       "    <tr style=\"text-align: right;\">\n",
       "      <th></th>\n",
       "      <th>total</th>\n",
       "      <th>avgscore</th>\n",
       "    </tr>\n",
       "    <tr>\n",
       "      <th>areaname</th>\n",
       "      <th></th>\n",
       "      <th></th>\n",
       "    </tr>\n",
       "  </thead>\n",
       "  <tbody>\n",
       "    <tr>\n",
       "      <th>望京</th>\n",
       "      <td>23</td>\n",
       "      <td>4.256522</td>\n",
       "    </tr>\n",
       "    <tr>\n",
       "      <th>国贸/建外</th>\n",
       "      <td>22</td>\n",
       "      <td>4.272727</td>\n",
       "    </tr>\n",
       "    <tr>\n",
       "      <th>大望路</th>\n",
       "      <td>17</td>\n",
       "      <td>3.952941</td>\n",
       "    </tr>\n",
       "    <tr>\n",
       "      <th>首都机场</th>\n",
       "      <td>16</td>\n",
       "      <td>3.681250</td>\n",
       "    </tr>\n",
       "    <tr>\n",
       "      <th>朝外大街</th>\n",
       "      <td>14</td>\n",
       "      <td>4.278571</td>\n",
       "    </tr>\n",
       "  </tbody>\n",
       "</table>\n",
       "</div>"
      ],
      "text/plain": [
       "          total  avgscore\n",
       "areaname                 \n",
       "望京           23  4.256522\n",
       "国贸/建外        22  4.272727\n",
       "大望路          17  3.952941\n",
       "首都机场         16  3.681250\n",
       "朝外大街         14  4.278571"
      ]
     },
     "execution_count": 10,
     "metadata": {},
     "output_type": "execute_result"
    }
   ],
   "source": [
    "# 按商圈分组\n",
    "areaname_grouped_data = data.groupby(\"areaname\")\n",
    "\n",
    "# 计算各个商圈的门店数量和平均评分\n",
    "areaname_totals = areaname_grouped_data.size()\n",
    "areaname_totals.name = \"total\"\n",
    "areaname_avgscores = areaname_grouped_data[\"avgscore\"].mean()\n",
    "\n",
    "merged_data = pd.merge(areaname_totals, areaname_avgscores, how=\"outer\", on=\"areaname\")\n",
    "\n",
    "print(\"拥有最多星巴克门店的商圈:\")\n",
    "merged_data.sort_values(\"total\", ascending=False).head(5)\n"
   ]
  },
  {
   "cell_type": "code",
   "execution_count": null,
   "metadata": {},
   "outputs": [
    {
     "name": "stdout",
     "output_type": "stream",
     "text": [
      "拥有最高平均评分的商圈:\n"
     ]
    },
    {
     "data": {
      "text/html": [
       "<div>\n",
       "<style scoped>\n",
       "    .dataframe tbody tr th:only-of-type {\n",
       "        vertical-align: middle;\n",
       "    }\n",
       "\n",
       "    .dataframe tbody tr th {\n",
       "        vertical-align: top;\n",
       "    }\n",
       "\n",
       "    .dataframe thead th {\n",
       "        text-align: right;\n",
       "    }\n",
       "</style>\n",
       "<table border=\"1\" class=\"dataframe\">\n",
       "  <thead>\n",
       "    <tr style=\"text-align: right;\">\n",
       "      <th></th>\n",
       "      <th>total</th>\n",
       "      <th>avgscore</th>\n",
       "    </tr>\n",
       "    <tr>\n",
       "      <th>areaname</th>\n",
       "      <th></th>\n",
       "      <th></th>\n",
       "    </tr>\n",
       "  </thead>\n",
       "  <tbody>\n",
       "    <tr>\n",
       "      <th>卢沟桥</th>\n",
       "      <td>1</td>\n",
       "      <td>4.600000</td>\n",
       "    </tr>\n",
       "    <tr>\n",
       "      <th>北大地/万丰路</th>\n",
       "      <td>1</td>\n",
       "      <td>4.600000</td>\n",
       "    </tr>\n",
       "    <tr>\n",
       "      <th>北下关</th>\n",
       "      <td>1</td>\n",
       "      <td>4.600000</td>\n",
       "    </tr>\n",
       "    <tr>\n",
       "      <th>青塔</th>\n",
       "      <td>3</td>\n",
       "      <td>4.566667</td>\n",
       "    </tr>\n",
       "    <tr>\n",
       "      <th>万柳</th>\n",
       "      <td>1</td>\n",
       "      <td>4.500000</td>\n",
       "    </tr>\n",
       "  </tbody>\n",
       "</table>\n",
       "</div>"
      ],
      "text/plain": [
       "          total  avgscore\n",
       "areaname                 \n",
       "卢沟桥           1  4.600000\n",
       "北大地/万丰路       1  4.600000\n",
       "北下关           1  4.600000\n",
       "青塔            3  4.566667\n",
       "万柳            1  4.500000"
      ]
     },
     "execution_count": 11,
     "metadata": {},
     "output_type": "execute_result"
    }
   ],
   "source": [
    "print(\"拥有最高平均评分的商圈:\")\n",
    "merged_data.sort_values(\"avgscore\", ascending=False).head(5)"
   ]
  },
  {
   "cell_type": "code",
   "execution_count": null,
   "metadata": {},
   "outputs": [
    {
     "name": "stdout",
     "output_type": "stream",
     "text": [
      "拥有最多星巴克门店且平均评分大于 4.1 的商圈\n"
     ]
    },
    {
     "data": {
      "text/html": [
       "<div>\n",
       "<style scoped>\n",
       "    .dataframe tbody tr th:only-of-type {\n",
       "        vertical-align: middle;\n",
       "    }\n",
       "\n",
       "    .dataframe tbody tr th {\n",
       "        vertical-align: top;\n",
       "    }\n",
       "\n",
       "    .dataframe thead th {\n",
       "        text-align: right;\n",
       "    }\n",
       "</style>\n",
       "<table border=\"1\" class=\"dataframe\">\n",
       "  <thead>\n",
       "    <tr style=\"text-align: right;\">\n",
       "      <th></th>\n",
       "      <th>total</th>\n",
       "      <th>avgscore</th>\n",
       "    </tr>\n",
       "    <tr>\n",
       "      <th>areaname</th>\n",
       "      <th></th>\n",
       "      <th></th>\n",
       "    </tr>\n",
       "  </thead>\n",
       "  <tbody>\n",
       "    <tr>\n",
       "      <th>望京</th>\n",
       "      <td>23</td>\n",
       "      <td>4.256522</td>\n",
       "    </tr>\n",
       "    <tr>\n",
       "      <th>国贸/建外</th>\n",
       "      <td>22</td>\n",
       "      <td>4.272727</td>\n",
       "    </tr>\n",
       "    <tr>\n",
       "      <th>朝外大街</th>\n",
       "      <td>14</td>\n",
       "      <td>4.278571</td>\n",
       "    </tr>\n",
       "    <tr>\n",
       "      <th>亦庄</th>\n",
       "      <td>13</td>\n",
       "      <td>4.176923</td>\n",
       "    </tr>\n",
       "    <tr>\n",
       "      <th>亮马桥/三元桥</th>\n",
       "      <td>13</td>\n",
       "      <td>4.300000</td>\n",
       "    </tr>\n",
       "  </tbody>\n",
       "</table>\n",
       "</div>"
      ],
      "text/plain": [
       "          total  avgscore\n",
       "areaname                 \n",
       "望京           23  4.256522\n",
       "国贸/建外        22  4.272727\n",
       "朝外大街         14  4.278571\n",
       "亦庄           13  4.176923\n",
       "亮马桥/三元桥      13  4.300000"
      ]
     },
     "execution_count": 12,
     "metadata": {},
     "output_type": "execute_result"
    }
   ],
   "source": [
    "print(\"拥有最多星巴克门店且平均评分大于 4.1 的商圈\")\n",
    "merged_data[merged_data[\"avgscore\"] > 4.1].sort_values(\"total\", ascending=False).head()"
   ]
  },
  {
   "attachments": {},
   "cell_type": "markdown",
   "metadata": {},
   "source": [
    "## 可视化"
   ]
  },
  {
   "cell_type": "code",
   "execution_count": null,
   "metadata": {},
   "outputs": [],
   "source": [
    "import matplotlib.pyplot as plt"
   ]
  },
  {
   "cell_type": "code",
   "execution_count": 22,
   "metadata": {},
   "outputs": [
    {
     "name": "stdout",
     "output_type": "stream",
     "text": [
      "拥有最多星巴克门店且平均评分大于 4.1 的商圈\n"
     ]
    },
    {
     "data": {
      "text/plain": [
       "<Axes: title={'center': '拥有最多星巴克门店且平均评分大于 4.1 的商圈'}, xlabel='areaname'>"
      ]
     },
     "execution_count": 22,
     "metadata": {},
     "output_type": "execute_result"
    },
    {
     "data": {
      "image/png": "[encoded data removed]",
      "text/plain": [
       "<Figure size 720x432 with 1 Axes>"
      ]
     },
     "metadata": {
      "needs_background": "light"
     },
     "output_type": "display_data"
    }
   ],
   "source": [
    "print(\"拥有最多星巴克门店且平均评分大于 4.1 的商圈\")\n",
    "result = merged_data[merged_data[\"avgscore\"] > 4.1].sort_values(\"total\", ascending=False).head()\n",
    "result.plot(kind=\"bar\", figsize=[10, 6], title=\"拥有最多星巴克门店且平均评分大于 4.1 的商圈\")"
   ]
  },
  {
   "cell_type": "code",
   "execution_count": 15,
   "metadata": {},
   "outputs": [
    {
     "name": "stdout",
     "output_type": "stream",
     "text": [
      "c:\\Development\\Python-3.10\\lib\\site-packages\\matplotlib\\mpl-data\\matplotlibrc\n"
     ]
    }
   ],
   "source": [
    "import matplotlib\n",
    "print(matplotlib.matplotlib_fname())"
   ]
  },
  {
   "cell_type": "code",
   "execution_count": null,
   "metadata": {},
   "outputs": [],
   "source": []
  }
 ],
 "metadata": {
  "kernelspec": {
   "display_name": "Python 3",
   "language": "python",
   "name": "python3"
  },
  "language_info": {
   "codemirror_mode": {
    "name": "ipython",
    "version": 3
   },
   "file_extension": ".py",
   "mimetype": "text/x-python",
   "name": "python",
   "nbconvert_exporter": "python",
   "pygments_lexer": "ipython3",
   "version": "3.10.10"
  },
  "orig_nbformat": 4
 },
 "nbformat": 4,
 "nbformat_minor": 2
}
