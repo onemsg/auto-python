{
 "cells": [
  {
   "attachments": {},
   "cell_type": "markdown",
   "metadata": {},
   "source": [
    "# 上海火锅门店数据分析\n",
    "\n",
    "- 门店数据 - `上海-火锅.csv`\n",
    "- 商圈数据 - `上海-商圈.json`\n",
    "\n",
    "**分析任务**:\n",
    "\n",
    "1. 按照平均消费价格从高到低排序\n",
    "2. 按照门店类型 `backCateName` 分组，统计各个门店类型的数量；找出各个分组下价格最高的门店\n",
    "3. 按照商圈 `areaname` 分组，统计各个商圈的数量；找出拥有最多门店数量的 TOP3 商圈\n",
    "4. 找出平均价格最便宜、最贵的商圈\n",
    "5. 根据商圈数据 `上海-商圈.json`，给每个门添加所属的区，放到新列 `area` 中\n",
    "6. 通过店名 `title`，得出门店的品牌，比如 `楠火锅（爱琴海店）` -> `楠火锅`，放到新列 `brand` 中\n",
    "7. 找出在上海拥有最多门店的品牌 `brand`；平均消费价格最高的品牌；最受欢迎（评论 `comments` 数量最多）的品牌\n",
    "\n",
    "> @Author kvimsg@live.com  \n",
    "> @Since 2023-06"
   ]
  },
  {
   "attachments": {},
   "cell_type": "markdown",
   "metadata": {},
   "source": [
    "### 0. 加载数据，查看数据"
   ]
  },
  {
   "cell_type": "code",
   "execution_count": null,
   "metadata": {},
   "outputs": [],
   "source": []
  },
  {
   "attachments": {},
   "cell_type": "markdown",
   "metadata": {},
   "source": [
    "### 1. 按照平均消费价格从高到低排序"
   ]
  },
  {
   "cell_type": "code",
   "execution_count": null,
   "metadata": {},
   "outputs": [],
   "source": []
  },
  {
   "attachments": {},
   "cell_type": "markdown",
   "metadata": {},
   "source": [
    "### 2. 按照门店类型 `backCateName` 分组，统计各个门店类型的数量；找出各个分组下价格最高的门店"
   ]
  },
  {
   "cell_type": "code",
   "execution_count": null,
   "metadata": {},
   "outputs": [],
   "source": []
  },
  {
   "attachments": {},
   "cell_type": "markdown",
   "metadata": {},
   "source": [
    "### 3. 按照商圈 `areaname` 分组，统计各个商圈的数量；找出拥有最多门店数量的 TOP3 商圈"
   ]
  },
  {
   "cell_type": "code",
   "execution_count": null,
   "metadata": {},
   "outputs": [],
   "source": []
  },
  {
   "attachments": {},
   "cell_type": "markdown",
   "metadata": {},
   "source": [
    "### 4. 找出平均价格最便宜、最贵的商圈"
   ]
  },
  {
   "cell_type": "code",
   "execution_count": null,
   "metadata": {},
   "outputs": [],
   "source": []
  },
  {
   "attachments": {},
   "cell_type": "markdown",
   "metadata": {},
   "source": [
    "### 5. 根据商圈数据 `上海-商圈.json`，给每个门添加所属的区，放到新列 `area` 中"
   ]
  },
  {
   "cell_type": "code",
   "execution_count": null,
   "metadata": {},
   "outputs": [],
   "source": []
  },
  {
   "attachments": {},
   "cell_type": "markdown",
   "metadata": {},
   "source": [
    "### 6. 通过店名 `title`，得出门店的品牌，比如 `楠火锅（爱琴海店）` -> `楠火锅`，放到新列 `brand` 中"
   ]
  },
  {
   "cell_type": "code",
   "execution_count": null,
   "metadata": {},
   "outputs": [],
   "source": []
  },
  {
   "attachments": {},
   "cell_type": "markdown",
   "metadata": {},
   "source": [
    "### 7. 找出在上海拥有最多门店的品牌 `brand`；平均消费价格最高的品牌；最受欢迎（评论 `comments` 数量最多）的品牌"
   ]
  },
  {
   "cell_type": "code",
   "execution_count": null,
   "metadata": {},
   "outputs": [],
   "source": []
  }
 ],
 "metadata": {
  "kernelspec": {
   "display_name": "Python 3",
   "language": "python",
   "name": "python3"
  },
  "language_info": {
   "codemirror_mode": {
    "name": "ipython",
    "version": 3
   },
   "file_extension": ".py",
   "mimetype": "text/x-python",
   "name": "python",
   "nbconvert_exporter": "python",
   "pygments_lexer": "ipython3",
   "version": "3.10.10"
  },
  "orig_nbformat": 4
 },
 "nbformat": 4,
 "nbformat_minor": 2
}
